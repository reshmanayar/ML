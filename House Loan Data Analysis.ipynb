{
 "cells": [
  {
   "cell_type": "code",
   "execution_count": 1,
   "id": "47b54833",
   "metadata": {},
   "outputs": [],
   "source": [
    "import numpy as np\n",
    "import pandas as pd\n",
    "import matplotlib.pyplot as plt\n",
    "import seaborn as sns"
   ]
  },
  {
   "cell_type": "code",
   "execution_count": 2,
   "id": "5a01477f",
   "metadata": {},
   "outputs": [
    {
     "data": {
      "text/html": [
       "<div>\n",
       "<style scoped>\n",
       "    .dataframe tbody tr th:only-of-type {\n",
       "        vertical-align: middle;\n",
       "    }\n",
       "\n",
       "    .dataframe tbody tr th {\n",
       "        vertical-align: top;\n",
       "    }\n",
       "\n",
       "    .dataframe thead th {\n",
       "        text-align: right;\n",
       "    }\n",
       "</style>\n",
       "<table border=\"1\" class=\"dataframe\">\n",
       "  <thead>\n",
       "    <tr style=\"text-align: right;\">\n",
       "      <th></th>\n",
       "      <th>SK_ID_CURR</th>\n",
       "      <th>TARGET</th>\n",
       "      <th>NAME_CONTRACT_TYPE</th>\n",
       "      <th>CODE_GENDER</th>\n",
       "      <th>FLAG_OWN_CAR</th>\n",
       "      <th>FLAG_OWN_REALTY</th>\n",
       "      <th>CNT_CHILDREN</th>\n",
       "      <th>AMT_INCOME_TOTAL</th>\n",
       "      <th>AMT_CREDIT</th>\n",
       "      <th>AMT_ANNUITY</th>\n",
       "      <th>...</th>\n",
       "      <th>FLAG_DOCUMENT_18</th>\n",
       "      <th>FLAG_DOCUMENT_19</th>\n",
       "      <th>FLAG_DOCUMENT_20</th>\n",
       "      <th>FLAG_DOCUMENT_21</th>\n",
       "      <th>AMT_REQ_CREDIT_BUREAU_HOUR</th>\n",
       "      <th>AMT_REQ_CREDIT_BUREAU_DAY</th>\n",
       "      <th>AMT_REQ_CREDIT_BUREAU_WEEK</th>\n",
       "      <th>AMT_REQ_CREDIT_BUREAU_MON</th>\n",
       "      <th>AMT_REQ_CREDIT_BUREAU_QRT</th>\n",
       "      <th>AMT_REQ_CREDIT_BUREAU_YEAR</th>\n",
       "    </tr>\n",
       "  </thead>\n",
       "  <tbody>\n",
       "    <tr>\n",
       "      <th>0</th>\n",
       "      <td>100002</td>\n",
       "      <td>1</td>\n",
       "      <td>Cash loans</td>\n",
       "      <td>M</td>\n",
       "      <td>N</td>\n",
       "      <td>Y</td>\n",
       "      <td>0</td>\n",
       "      <td>202500.0</td>\n",
       "      <td>406597.5</td>\n",
       "      <td>24700.5</td>\n",
       "      <td>...</td>\n",
       "      <td>0</td>\n",
       "      <td>0</td>\n",
       "      <td>0</td>\n",
       "      <td>0</td>\n",
       "      <td>0.0</td>\n",
       "      <td>0.0</td>\n",
       "      <td>0.0</td>\n",
       "      <td>0.0</td>\n",
       "      <td>0.0</td>\n",
       "      <td>1.0</td>\n",
       "    </tr>\n",
       "    <tr>\n",
       "      <th>1</th>\n",
       "      <td>100003</td>\n",
       "      <td>0</td>\n",
       "      <td>Cash loans</td>\n",
       "      <td>F</td>\n",
       "      <td>N</td>\n",
       "      <td>N</td>\n",
       "      <td>0</td>\n",
       "      <td>270000.0</td>\n",
       "      <td>1293502.5</td>\n",
       "      <td>35698.5</td>\n",
       "      <td>...</td>\n",
       "      <td>0</td>\n",
       "      <td>0</td>\n",
       "      <td>0</td>\n",
       "      <td>0</td>\n",
       "      <td>0.0</td>\n",
       "      <td>0.0</td>\n",
       "      <td>0.0</td>\n",
       "      <td>0.0</td>\n",
       "      <td>0.0</td>\n",
       "      <td>0.0</td>\n",
       "    </tr>\n",
       "    <tr>\n",
       "      <th>2</th>\n",
       "      <td>100004</td>\n",
       "      <td>0</td>\n",
       "      <td>Revolving loans</td>\n",
       "      <td>M</td>\n",
       "      <td>Y</td>\n",
       "      <td>Y</td>\n",
       "      <td>0</td>\n",
       "      <td>67500.0</td>\n",
       "      <td>135000.0</td>\n",
       "      <td>6750.0</td>\n",
       "      <td>...</td>\n",
       "      <td>0</td>\n",
       "      <td>0</td>\n",
       "      <td>0</td>\n",
       "      <td>0</td>\n",
       "      <td>0.0</td>\n",
       "      <td>0.0</td>\n",
       "      <td>0.0</td>\n",
       "      <td>0.0</td>\n",
       "      <td>0.0</td>\n",
       "      <td>0.0</td>\n",
       "    </tr>\n",
       "    <tr>\n",
       "      <th>3</th>\n",
       "      <td>100006</td>\n",
       "      <td>0</td>\n",
       "      <td>Cash loans</td>\n",
       "      <td>F</td>\n",
       "      <td>N</td>\n",
       "      <td>Y</td>\n",
       "      <td>0</td>\n",
       "      <td>135000.0</td>\n",
       "      <td>312682.5</td>\n",
       "      <td>29686.5</td>\n",
       "      <td>...</td>\n",
       "      <td>0</td>\n",
       "      <td>0</td>\n",
       "      <td>0</td>\n",
       "      <td>0</td>\n",
       "      <td>NaN</td>\n",
       "      <td>NaN</td>\n",
       "      <td>NaN</td>\n",
       "      <td>NaN</td>\n",
       "      <td>NaN</td>\n",
       "      <td>NaN</td>\n",
       "    </tr>\n",
       "    <tr>\n",
       "      <th>4</th>\n",
       "      <td>100007</td>\n",
       "      <td>0</td>\n",
       "      <td>Cash loans</td>\n",
       "      <td>M</td>\n",
       "      <td>N</td>\n",
       "      <td>Y</td>\n",
       "      <td>0</td>\n",
       "      <td>121500.0</td>\n",
       "      <td>513000.0</td>\n",
       "      <td>21865.5</td>\n",
       "      <td>...</td>\n",
       "      <td>0</td>\n",
       "      <td>0</td>\n",
       "      <td>0</td>\n",
       "      <td>0</td>\n",
       "      <td>0.0</td>\n",
       "      <td>0.0</td>\n",
       "      <td>0.0</td>\n",
       "      <td>0.0</td>\n",
       "      <td>0.0</td>\n",
       "      <td>0.0</td>\n",
       "    </tr>\n",
       "  </tbody>\n",
       "</table>\n",
       "<p>5 rows × 122 columns</p>\n",
       "</div>"
      ],
      "text/plain": [
       "   SK_ID_CURR  TARGET NAME_CONTRACT_TYPE CODE_GENDER FLAG_OWN_CAR  \\\n",
       "0      100002       1         Cash loans           M            N   \n",
       "1      100003       0         Cash loans           F            N   \n",
       "2      100004       0    Revolving loans           M            Y   \n",
       "3      100006       0         Cash loans           F            N   \n",
       "4      100007       0         Cash loans           M            N   \n",
       "\n",
       "  FLAG_OWN_REALTY  CNT_CHILDREN  AMT_INCOME_TOTAL  AMT_CREDIT  AMT_ANNUITY  \\\n",
       "0               Y             0          202500.0    406597.5      24700.5   \n",
       "1               N             0          270000.0   1293502.5      35698.5   \n",
       "2               Y             0           67500.0    135000.0       6750.0   \n",
       "3               Y             0          135000.0    312682.5      29686.5   \n",
       "4               Y             0          121500.0    513000.0      21865.5   \n",
       "\n",
       "   ...  FLAG_DOCUMENT_18 FLAG_DOCUMENT_19 FLAG_DOCUMENT_20 FLAG_DOCUMENT_21  \\\n",
       "0  ...                 0                0                0                0   \n",
       "1  ...                 0                0                0                0   \n",
       "2  ...                 0                0                0                0   \n",
       "3  ...                 0                0                0                0   \n",
       "4  ...                 0                0                0                0   \n",
       "\n",
       "  AMT_REQ_CREDIT_BUREAU_HOUR AMT_REQ_CREDIT_BUREAU_DAY  \\\n",
       "0                        0.0                       0.0   \n",
       "1                        0.0                       0.0   \n",
       "2                        0.0                       0.0   \n",
       "3                        NaN                       NaN   \n",
       "4                        0.0                       0.0   \n",
       "\n",
       "   AMT_REQ_CREDIT_BUREAU_WEEK  AMT_REQ_CREDIT_BUREAU_MON  \\\n",
       "0                         0.0                        0.0   \n",
       "1                         0.0                        0.0   \n",
       "2                         0.0                        0.0   \n",
       "3                         NaN                        NaN   \n",
       "4                         0.0                        0.0   \n",
       "\n",
       "   AMT_REQ_CREDIT_BUREAU_QRT  AMT_REQ_CREDIT_BUREAU_YEAR  \n",
       "0                        0.0                         1.0  \n",
       "1                        0.0                         0.0  \n",
       "2                        0.0                         0.0  \n",
       "3                        NaN                         NaN  \n",
       "4                        0.0                         0.0  \n",
       "\n",
       "[5 rows x 122 columns]"
      ]
     },
     "execution_count": 2,
     "metadata": {},
     "output_type": "execute_result"
    }
   ],
   "source": [
    "#Load the dataset \n",
    "df=pd.read_csv(\"loan_data (1).csv\")\n",
    "df.head()"
   ]
  },
  {
   "cell_type": "code",
   "execution_count": 3,
   "id": "4f502fd7",
   "metadata": {},
   "outputs": [
    {
     "data": {
      "text/plain": [
       "(307511, 122)"
      ]
     },
     "execution_count": 3,
     "metadata": {},
     "output_type": "execute_result"
    }
   ],
   "source": [
    "df.shape"
   ]
  },
  {
   "cell_type": "code",
   "execution_count": 4,
   "id": "f4b1368e",
   "metadata": {},
   "outputs": [
    {
     "name": "stdout",
     "output_type": "stream",
     "text": [
      "SK_ID_CURR 0\n",
      "TARGET 0\n",
      "NAME_CONTRACT_TYPE 0\n",
      "CODE_GENDER 0\n",
      "FLAG_OWN_CAR 0\n",
      "FLAG_OWN_REALTY 0\n",
      "CNT_CHILDREN 0\n",
      "AMT_INCOME_TOTAL 0\n",
      "AMT_CREDIT 0\n",
      "AMT_ANNUITY 12\n",
      "AMT_GOODS_PRICE 278\n",
      "NAME_TYPE_SUITE 1292\n",
      "NAME_INCOME_TYPE 0\n",
      "NAME_EDUCATION_TYPE 0\n",
      "NAME_FAMILY_STATUS 0\n",
      "NAME_HOUSING_TYPE 0\n",
      "REGION_POPULATION_RELATIVE 0\n",
      "DAYS_BIRTH 0\n",
      "DAYS_EMPLOYED 0\n",
      "DAYS_REGISTRATION 0\n",
      "DAYS_ID_PUBLISH 0\n",
      "OWN_CAR_AGE 202929\n",
      "FLAG_MOBIL 0\n",
      "FLAG_EMP_PHONE 0\n",
      "FLAG_WORK_PHONE 0\n",
      "FLAG_CONT_MOBILE 0\n",
      "FLAG_PHONE 0\n",
      "FLAG_EMAIL 0\n",
      "OCCUPATION_TYPE 96391\n",
      "CNT_FAM_MEMBERS 2\n",
      "REGION_RATING_CLIENT 0\n",
      "REGION_RATING_CLIENT_W_CITY 0\n",
      "WEEKDAY_APPR_PROCESS_START 0\n",
      "HOUR_APPR_PROCESS_START 0\n",
      "REG_REGION_NOT_LIVE_REGION 0\n",
      "REG_REGION_NOT_WORK_REGION 0\n",
      "LIVE_REGION_NOT_WORK_REGION 0\n",
      "REG_CITY_NOT_LIVE_CITY 0\n",
      "REG_CITY_NOT_WORK_CITY 0\n",
      "LIVE_CITY_NOT_WORK_CITY 0\n",
      "ORGANIZATION_TYPE 0\n",
      "EXT_SOURCE_1 173378\n",
      "EXT_SOURCE_2 660\n",
      "EXT_SOURCE_3 60965\n",
      "APARTMENTS_AVG 156061\n",
      "BASEMENTAREA_AVG 179943\n",
      "YEARS_BEGINEXPLUATATION_AVG 150007\n",
      "YEARS_BUILD_AVG 204488\n",
      "COMMONAREA_AVG 214865\n",
      "ELEVATORS_AVG 163891\n",
      "ENTRANCES_AVG 154828\n",
      "FLOORSMAX_AVG 153020\n",
      "FLOORSMIN_AVG 208642\n",
      "LANDAREA_AVG 182590\n",
      "LIVINGAPARTMENTS_AVG 210199\n",
      "LIVINGAREA_AVG 154350\n",
      "NONLIVINGAPARTMENTS_AVG 213514\n",
      "NONLIVINGAREA_AVG 169682\n",
      "APARTMENTS_MODE 156061\n",
      "BASEMENTAREA_MODE 179943\n",
      "YEARS_BEGINEXPLUATATION_MODE 150007\n",
      "YEARS_BUILD_MODE 204488\n",
      "COMMONAREA_MODE 214865\n",
      "ELEVATORS_MODE 163891\n",
      "ENTRANCES_MODE 154828\n",
      "FLOORSMAX_MODE 153020\n",
      "FLOORSMIN_MODE 208642\n",
      "LANDAREA_MODE 182590\n",
      "LIVINGAPARTMENTS_MODE 210199\n",
      "LIVINGAREA_MODE 154350\n",
      "NONLIVINGAPARTMENTS_MODE 213514\n",
      "NONLIVINGAREA_MODE 169682\n",
      "APARTMENTS_MEDI 156061\n",
      "BASEMENTAREA_MEDI 179943\n",
      "YEARS_BEGINEXPLUATATION_MEDI 150007\n",
      "YEARS_BUILD_MEDI 204488\n",
      "COMMONAREA_MEDI 214865\n",
      "ELEVATORS_MEDI 163891\n",
      "ENTRANCES_MEDI 154828\n",
      "FLOORSMAX_MEDI 153020\n",
      "FLOORSMIN_MEDI 208642\n",
      "LANDAREA_MEDI 182590\n",
      "LIVINGAPARTMENTS_MEDI 210199\n",
      "LIVINGAREA_MEDI 154350\n",
      "NONLIVINGAPARTMENTS_MEDI 213514\n",
      "NONLIVINGAREA_MEDI 169682\n",
      "FONDKAPREMONT_MODE 210295\n",
      "HOUSETYPE_MODE 154297\n",
      "TOTALAREA_MODE 148431\n",
      "WALLSMATERIAL_MODE 156341\n",
      "EMERGENCYSTATE_MODE 145755\n",
      "OBS_30_CNT_SOCIAL_CIRCLE 1021\n",
      "DEF_30_CNT_SOCIAL_CIRCLE 1021\n",
      "OBS_60_CNT_SOCIAL_CIRCLE 1021\n",
      "DEF_60_CNT_SOCIAL_CIRCLE 1021\n",
      "DAYS_LAST_PHONE_CHANGE 1\n",
      "FLAG_DOCUMENT_2 0\n",
      "FLAG_DOCUMENT_3 0\n",
      "FLAG_DOCUMENT_4 0\n",
      "FLAG_DOCUMENT_5 0\n",
      "FLAG_DOCUMENT_6 0\n",
      "FLAG_DOCUMENT_7 0\n",
      "FLAG_DOCUMENT_8 0\n",
      "FLAG_DOCUMENT_9 0\n",
      "FLAG_DOCUMENT_10 0\n",
      "FLAG_DOCUMENT_11 0\n",
      "FLAG_DOCUMENT_12 0\n",
      "FLAG_DOCUMENT_13 0\n",
      "FLAG_DOCUMENT_14 0\n",
      "FLAG_DOCUMENT_15 0\n",
      "FLAG_DOCUMENT_16 0\n",
      "FLAG_DOCUMENT_17 0\n",
      "FLAG_DOCUMENT_18 0\n",
      "FLAG_DOCUMENT_19 0\n",
      "FLAG_DOCUMENT_20 0\n",
      "FLAG_DOCUMENT_21 0\n",
      "AMT_REQ_CREDIT_BUREAU_HOUR 41519\n",
      "AMT_REQ_CREDIT_BUREAU_DAY 41519\n",
      "AMT_REQ_CREDIT_BUREAU_WEEK 41519\n",
      "AMT_REQ_CREDIT_BUREAU_MON 41519\n",
      "AMT_REQ_CREDIT_BUREAU_QRT 41519\n",
      "AMT_REQ_CREDIT_BUREAU_YEAR 41519\n"
     ]
    }
   ],
   "source": [
    "# Check for null values in the dataset\n",
    "\n",
    "for col in df:\n",
    "    print(col,df[col].isnull().sum())\n",
    "    "
   ]
  },
  {
   "cell_type": "code",
   "execution_count": 5,
   "id": "f93d622f",
   "metadata": {},
   "outputs": [],
   "source": [
    "# Drop all the columns having null values more than 30%\n",
    "\n",
    "for col in df:\n",
    "    if (df[col].isnull().sum()/df.shape[0]*100) > 30 :\n",
    "        df.drop(columns=col,axis=1,inplace=True)\n",
    "        "
   ]
  },
  {
   "cell_type": "code",
   "execution_count": 6,
   "id": "74ff8cd2",
   "metadata": {},
   "outputs": [
    {
     "data": {
      "text/plain": [
       "(307511, 72)"
      ]
     },
     "execution_count": 6,
     "metadata": {},
     "output_type": "execute_result"
    }
   ],
   "source": [
    "df.shape"
   ]
  },
  {
   "cell_type": "code",
   "execution_count": 7,
   "id": "32368398",
   "metadata": {
    "scrolled": true
   },
   "outputs": [
    {
     "name": "stdout",
     "output_type": "stream",
     "text": [
      "SK_ID_CURR 0\n",
      "TARGET 0\n",
      "NAME_CONTRACT_TYPE 0\n",
      "CODE_GENDER 0\n",
      "FLAG_OWN_CAR 0\n",
      "FLAG_OWN_REALTY 0\n",
      "CNT_CHILDREN 0\n",
      "AMT_INCOME_TOTAL 0\n",
      "AMT_CREDIT 0\n",
      "AMT_ANNUITY 12\n",
      "AMT_GOODS_PRICE 278\n",
      "NAME_TYPE_SUITE 1292\n",
      "NAME_INCOME_TYPE 0\n",
      "NAME_EDUCATION_TYPE 0\n",
      "NAME_FAMILY_STATUS 0\n",
      "NAME_HOUSING_TYPE 0\n",
      "REGION_POPULATION_RELATIVE 0\n",
      "DAYS_BIRTH 0\n",
      "DAYS_EMPLOYED 0\n",
      "DAYS_REGISTRATION 0\n",
      "DAYS_ID_PUBLISH 0\n",
      "FLAG_MOBIL 0\n",
      "FLAG_EMP_PHONE 0\n",
      "FLAG_WORK_PHONE 0\n",
      "FLAG_CONT_MOBILE 0\n",
      "FLAG_PHONE 0\n",
      "FLAG_EMAIL 0\n",
      "CNT_FAM_MEMBERS 2\n",
      "REGION_RATING_CLIENT 0\n",
      "REGION_RATING_CLIENT_W_CITY 0\n",
      "WEEKDAY_APPR_PROCESS_START 0\n",
      "HOUR_APPR_PROCESS_START 0\n",
      "REG_REGION_NOT_LIVE_REGION 0\n",
      "REG_REGION_NOT_WORK_REGION 0\n",
      "LIVE_REGION_NOT_WORK_REGION 0\n",
      "REG_CITY_NOT_LIVE_CITY 0\n",
      "REG_CITY_NOT_WORK_CITY 0\n",
      "LIVE_CITY_NOT_WORK_CITY 0\n",
      "ORGANIZATION_TYPE 0\n",
      "EXT_SOURCE_2 660\n",
      "EXT_SOURCE_3 60965\n",
      "OBS_30_CNT_SOCIAL_CIRCLE 1021\n",
      "DEF_30_CNT_SOCIAL_CIRCLE 1021\n",
      "OBS_60_CNT_SOCIAL_CIRCLE 1021\n",
      "DEF_60_CNT_SOCIAL_CIRCLE 1021\n",
      "DAYS_LAST_PHONE_CHANGE 1\n",
      "FLAG_DOCUMENT_2 0\n",
      "FLAG_DOCUMENT_3 0\n",
      "FLAG_DOCUMENT_4 0\n",
      "FLAG_DOCUMENT_5 0\n",
      "FLAG_DOCUMENT_6 0\n",
      "FLAG_DOCUMENT_7 0\n",
      "FLAG_DOCUMENT_8 0\n",
      "FLAG_DOCUMENT_9 0\n",
      "FLAG_DOCUMENT_10 0\n",
      "FLAG_DOCUMENT_11 0\n",
      "FLAG_DOCUMENT_12 0\n",
      "FLAG_DOCUMENT_13 0\n",
      "FLAG_DOCUMENT_14 0\n",
      "FLAG_DOCUMENT_15 0\n",
      "FLAG_DOCUMENT_16 0\n",
      "FLAG_DOCUMENT_17 0\n",
      "FLAG_DOCUMENT_18 0\n",
      "FLAG_DOCUMENT_19 0\n",
      "FLAG_DOCUMENT_20 0\n",
      "FLAG_DOCUMENT_21 0\n",
      "AMT_REQ_CREDIT_BUREAU_HOUR 41519\n",
      "AMT_REQ_CREDIT_BUREAU_DAY 41519\n",
      "AMT_REQ_CREDIT_BUREAU_WEEK 41519\n",
      "AMT_REQ_CREDIT_BUREAU_MON 41519\n",
      "AMT_REQ_CREDIT_BUREAU_QRT 41519\n",
      "AMT_REQ_CREDIT_BUREAU_YEAR 41519\n"
     ]
    }
   ],
   "source": [
    "for col in df:\n",
    "    print(col,df[col].isnull().sum())"
   ]
  },
  {
   "cell_type": "code",
   "execution_count": 8,
   "id": "e6c598f1",
   "metadata": {},
   "outputs": [],
   "source": [
    "df=df.dropna()"
   ]
  },
  {
   "cell_type": "code",
   "execution_count": 9,
   "id": "8153bf08",
   "metadata": {
    "scrolled": true
   },
   "outputs": [
    {
     "name": "stdout",
     "output_type": "stream",
     "text": [
      "SK_ID_CURR 0\n",
      "TARGET 0\n",
      "NAME_CONTRACT_TYPE 0\n",
      "CODE_GENDER 0\n",
      "FLAG_OWN_CAR 0\n",
      "FLAG_OWN_REALTY 0\n",
      "CNT_CHILDREN 0\n",
      "AMT_INCOME_TOTAL 0\n",
      "AMT_CREDIT 0\n",
      "AMT_ANNUITY 0\n",
      "AMT_GOODS_PRICE 0\n",
      "NAME_TYPE_SUITE 0\n",
      "NAME_INCOME_TYPE 0\n",
      "NAME_EDUCATION_TYPE 0\n",
      "NAME_FAMILY_STATUS 0\n",
      "NAME_HOUSING_TYPE 0\n",
      "REGION_POPULATION_RELATIVE 0\n",
      "DAYS_BIRTH 0\n",
      "DAYS_EMPLOYED 0\n",
      "DAYS_REGISTRATION 0\n",
      "DAYS_ID_PUBLISH 0\n",
      "FLAG_MOBIL 0\n",
      "FLAG_EMP_PHONE 0\n",
      "FLAG_WORK_PHONE 0\n",
      "FLAG_CONT_MOBILE 0\n",
      "FLAG_PHONE 0\n",
      "FLAG_EMAIL 0\n",
      "CNT_FAM_MEMBERS 0\n",
      "REGION_RATING_CLIENT 0\n",
      "REGION_RATING_CLIENT_W_CITY 0\n",
      "WEEKDAY_APPR_PROCESS_START 0\n",
      "HOUR_APPR_PROCESS_START 0\n",
      "REG_REGION_NOT_LIVE_REGION 0\n",
      "REG_REGION_NOT_WORK_REGION 0\n",
      "LIVE_REGION_NOT_WORK_REGION 0\n",
      "REG_CITY_NOT_LIVE_CITY 0\n",
      "REG_CITY_NOT_WORK_CITY 0\n",
      "LIVE_CITY_NOT_WORK_CITY 0\n",
      "ORGANIZATION_TYPE 0\n",
      "EXT_SOURCE_2 0\n",
      "EXT_SOURCE_3 0\n",
      "OBS_30_CNT_SOCIAL_CIRCLE 0\n",
      "DEF_30_CNT_SOCIAL_CIRCLE 0\n",
      "OBS_60_CNT_SOCIAL_CIRCLE 0\n",
      "DEF_60_CNT_SOCIAL_CIRCLE 0\n",
      "DAYS_LAST_PHONE_CHANGE 0\n",
      "FLAG_DOCUMENT_2 0\n",
      "FLAG_DOCUMENT_3 0\n",
      "FLAG_DOCUMENT_4 0\n",
      "FLAG_DOCUMENT_5 0\n",
      "FLAG_DOCUMENT_6 0\n",
      "FLAG_DOCUMENT_7 0\n",
      "FLAG_DOCUMENT_8 0\n",
      "FLAG_DOCUMENT_9 0\n",
      "FLAG_DOCUMENT_10 0\n",
      "FLAG_DOCUMENT_11 0\n",
      "FLAG_DOCUMENT_12 0\n",
      "FLAG_DOCUMENT_13 0\n",
      "FLAG_DOCUMENT_14 0\n",
      "FLAG_DOCUMENT_15 0\n",
      "FLAG_DOCUMENT_16 0\n",
      "FLAG_DOCUMENT_17 0\n",
      "FLAG_DOCUMENT_18 0\n",
      "FLAG_DOCUMENT_19 0\n",
      "FLAG_DOCUMENT_20 0\n",
      "FLAG_DOCUMENT_21 0\n",
      "AMT_REQ_CREDIT_BUREAU_HOUR 0\n",
      "AMT_REQ_CREDIT_BUREAU_DAY 0\n",
      "AMT_REQ_CREDIT_BUREAU_WEEK 0\n",
      "AMT_REQ_CREDIT_BUREAU_MON 0\n",
      "AMT_REQ_CREDIT_BUREAU_QRT 0\n",
      "AMT_REQ_CREDIT_BUREAU_YEAR 0\n"
     ]
    }
   ],
   "source": [
    "for col in df:\n",
    "    print(col,df[col].isnull().sum())"
   ]
  },
  {
   "cell_type": "code",
   "execution_count": 10,
   "id": "eff4cc99",
   "metadata": {},
   "outputs": [
    {
     "data": {
      "text/plain": [
       "0    225248\n",
       "1     19032\n",
       "Name: TARGET, dtype: int64"
      ]
     },
     "execution_count": 10,
     "metadata": {},
     "output_type": "execute_result"
    }
   ],
   "source": [
    "# Check the data values\n",
    "target=df['TARGET'].value_counts()\n",
    "target"
   ]
  },
  {
   "cell_type": "code",
   "execution_count": 11,
   "id": "1bb8e00f",
   "metadata": {},
   "outputs": [
    {
     "name": "stdout",
     "output_type": "stream",
     "text": [
      "(225248, 72) (244280,)\n"
     ]
    }
   ],
   "source": [
    "x=df[df['TARGET']==0].shape\n",
    "y=df['TARGET'].shape\n",
    "print(x,y)"
   ]
  },
  {
   "cell_type": "code",
   "execution_count": 12,
   "id": "0088dffc",
   "metadata": {},
   "outputs": [
    {
     "data": {
      "text/plain": [
       "92.2089405600131"
      ]
     },
     "execution_count": 12,
     "metadata": {},
     "output_type": "execute_result"
    }
   ],
   "source": [
    "# Print percentage of default to payer of the dataset for the TARGET column\n",
    "(x[0]/y[0])*100"
   ]
  },
  {
   "cell_type": "code",
   "execution_count": 13,
   "id": "3cba4cc3",
   "metadata": {},
   "outputs": [
    {
     "data": {
      "text/plain": [
       "<AxesSubplot:>"
      ]
     },
     "execution_count": 13,
     "metadata": {},
     "output_type": "execute_result"
    },
    {
     "data": {
      "image/png": "[encoded data removed]",
      "text/plain": [
       "<Figure size 432x288 with 1 Axes>"
      ]
     },
     "metadata": {
      "needs_background": "light"
     },
     "output_type": "display_data"
    }
   ],
   "source": [
    "# Data is highly imbalanced\n",
    "\n",
    "target.plot(kind='bar')"
   ]
  },
  {
   "cell_type": "code",
   "execution_count": 14,
   "id": "abbdacbe",
   "metadata": {},
   "outputs": [
    {
     "data": {
      "text/html": [
       "<div>\n",
       "<style scoped>\n",
       "    .dataframe tbody tr th:only-of-type {\n",
       "        vertical-align: middle;\n",
       "    }\n",
       "\n",
       "    .dataframe tbody tr th {\n",
       "        vertical-align: top;\n",
       "    }\n",
       "\n",
       "    .dataframe thead th {\n",
       "        text-align: right;\n",
       "    }\n",
       "</style>\n",
       "<table border=\"1\" class=\"dataframe\">\n",
       "  <thead>\n",
       "    <tr style=\"text-align: right;\">\n",
       "      <th></th>\n",
       "      <th>SK_ID_CURR</th>\n",
       "      <th>TARGET</th>\n",
       "      <th>NAME_CONTRACT_TYPE</th>\n",
       "      <th>CODE_GENDER</th>\n",
       "      <th>FLAG_OWN_CAR</th>\n",
       "      <th>FLAG_OWN_REALTY</th>\n",
       "      <th>CNT_CHILDREN</th>\n",
       "      <th>AMT_INCOME_TOTAL</th>\n",
       "      <th>AMT_CREDIT</th>\n",
       "      <th>AMT_ANNUITY</th>\n",
       "      <th>...</th>\n",
       "      <th>FLAG_DOCUMENT_18</th>\n",
       "      <th>FLAG_DOCUMENT_19</th>\n",
       "      <th>FLAG_DOCUMENT_20</th>\n",
       "      <th>FLAG_DOCUMENT_21</th>\n",
       "      <th>AMT_REQ_CREDIT_BUREAU_HOUR</th>\n",
       "      <th>AMT_REQ_CREDIT_BUREAU_DAY</th>\n",
       "      <th>AMT_REQ_CREDIT_BUREAU_WEEK</th>\n",
       "      <th>AMT_REQ_CREDIT_BUREAU_MON</th>\n",
       "      <th>AMT_REQ_CREDIT_BUREAU_QRT</th>\n",
       "      <th>AMT_REQ_CREDIT_BUREAU_YEAR</th>\n",
       "    </tr>\n",
       "  </thead>\n",
       "  <tbody>\n",
       "    <tr>\n",
       "      <th>0</th>\n",
       "      <td>100002</td>\n",
       "      <td>1</td>\n",
       "      <td>Cash loans</td>\n",
       "      <td>M</td>\n",
       "      <td>N</td>\n",
       "      <td>Y</td>\n",
       "      <td>0</td>\n",
       "      <td>202500.0</td>\n",
       "      <td>406597.5</td>\n",
       "      <td>24700.5</td>\n",
       "      <td>...</td>\n",
       "      <td>0</td>\n",
       "      <td>0</td>\n",
       "      <td>0</td>\n",
       "      <td>0</td>\n",
       "      <td>0.0</td>\n",
       "      <td>0.0</td>\n",
       "      <td>0.0</td>\n",
       "      <td>0.0</td>\n",
       "      <td>0.0</td>\n",
       "      <td>1.0</td>\n",
       "    </tr>\n",
       "    <tr>\n",
       "      <th>2</th>\n",
       "      <td>100004</td>\n",
       "      <td>0</td>\n",
       "      <td>Revolving loans</td>\n",
       "      <td>M</td>\n",
       "      <td>Y</td>\n",
       "      <td>Y</td>\n",
       "      <td>0</td>\n",
       "      <td>67500.0</td>\n",
       "      <td>135000.0</td>\n",
       "      <td>6750.0</td>\n",
       "      <td>...</td>\n",
       "      <td>0</td>\n",
       "      <td>0</td>\n",
       "      <td>0</td>\n",
       "      <td>0</td>\n",
       "      <td>0.0</td>\n",
       "      <td>0.0</td>\n",
       "      <td>0.0</td>\n",
       "      <td>0.0</td>\n",
       "      <td>0.0</td>\n",
       "      <td>0.0</td>\n",
       "    </tr>\n",
       "    <tr>\n",
       "      <th>5</th>\n",
       "      <td>100008</td>\n",
       "      <td>0</td>\n",
       "      <td>Cash loans</td>\n",
       "      <td>M</td>\n",
       "      <td>N</td>\n",
       "      <td>Y</td>\n",
       "      <td>0</td>\n",
       "      <td>99000.0</td>\n",
       "      <td>490495.5</td>\n",
       "      <td>27517.5</td>\n",
       "      <td>...</td>\n",
       "      <td>0</td>\n",
       "      <td>0</td>\n",
       "      <td>0</td>\n",
       "      <td>0</td>\n",
       "      <td>0.0</td>\n",
       "      <td>0.0</td>\n",
       "      <td>0.0</td>\n",
       "      <td>0.0</td>\n",
       "      <td>1.0</td>\n",
       "      <td>1.0</td>\n",
       "    </tr>\n",
       "    <tr>\n",
       "      <th>6</th>\n",
       "      <td>100009</td>\n",
       "      <td>0</td>\n",
       "      <td>Cash loans</td>\n",
       "      <td>F</td>\n",
       "      <td>Y</td>\n",
       "      <td>Y</td>\n",
       "      <td>1</td>\n",
       "      <td>171000.0</td>\n",
       "      <td>1560726.0</td>\n",
       "      <td>41301.0</td>\n",
       "      <td>...</td>\n",
       "      <td>0</td>\n",
       "      <td>0</td>\n",
       "      <td>0</td>\n",
       "      <td>0</td>\n",
       "      <td>0.0</td>\n",
       "      <td>0.0</td>\n",
       "      <td>0.0</td>\n",
       "      <td>1.0</td>\n",
       "      <td>1.0</td>\n",
       "      <td>2.0</td>\n",
       "    </tr>\n",
       "    <tr>\n",
       "      <th>7</th>\n",
       "      <td>100010</td>\n",
       "      <td>0</td>\n",
       "      <td>Cash loans</td>\n",
       "      <td>M</td>\n",
       "      <td>Y</td>\n",
       "      <td>Y</td>\n",
       "      <td>0</td>\n",
       "      <td>360000.0</td>\n",
       "      <td>1530000.0</td>\n",
       "      <td>42075.0</td>\n",
       "      <td>...</td>\n",
       "      <td>0</td>\n",
       "      <td>0</td>\n",
       "      <td>0</td>\n",
       "      <td>0</td>\n",
       "      <td>0.0</td>\n",
       "      <td>0.0</td>\n",
       "      <td>0.0</td>\n",
       "      <td>0.0</td>\n",
       "      <td>0.0</td>\n",
       "      <td>0.0</td>\n",
       "    </tr>\n",
       "  </tbody>\n",
       "</table>\n",
       "<p>5 rows × 72 columns</p>\n",
       "</div>"
      ],
      "text/plain": [
       "   SK_ID_CURR  TARGET NAME_CONTRACT_TYPE CODE_GENDER FLAG_OWN_CAR  \\\n",
       "0      100002       1         Cash loans           M            N   \n",
       "2      100004       0    Revolving loans           M            Y   \n",
       "5      100008       0         Cash loans           M            N   \n",
       "6      100009       0         Cash loans           F            Y   \n",
       "7      100010       0         Cash loans           M            Y   \n",
       "\n",
       "  FLAG_OWN_REALTY  CNT_CHILDREN  AMT_INCOME_TOTAL  AMT_CREDIT  AMT_ANNUITY  \\\n",
       "0               Y             0          202500.0    406597.5      24700.5   \n",
       "2               Y             0           67500.0    135000.0       6750.0   \n",
       "5               Y             0           99000.0    490495.5      27517.5   \n",
       "6               Y             1          171000.0   1560726.0      41301.0   \n",
       "7               Y             0          360000.0   1530000.0      42075.0   \n",
       "\n",
       "   ...  FLAG_DOCUMENT_18 FLAG_DOCUMENT_19 FLAG_DOCUMENT_20 FLAG_DOCUMENT_21  \\\n",
       "0  ...                 0                0                0                0   \n",
       "2  ...                 0                0                0                0   \n",
       "5  ...                 0                0                0                0   \n",
       "6  ...                 0                0                0                0   \n",
       "7  ...                 0                0                0                0   \n",
       "\n",
       "  AMT_REQ_CREDIT_BUREAU_HOUR AMT_REQ_CREDIT_BUREAU_DAY  \\\n",
       "0                        0.0                       0.0   \n",
       "2                        0.0                       0.0   \n",
       "5                        0.0                       0.0   \n",
       "6                        0.0                       0.0   \n",
       "7                        0.0                       0.0   \n",
       "\n",
       "   AMT_REQ_CREDIT_BUREAU_WEEK  AMT_REQ_CREDIT_BUREAU_MON  \\\n",
       "0                         0.0                        0.0   \n",
       "2                         0.0                        0.0   \n",
       "5                         0.0                        0.0   \n",
       "6                         0.0                        1.0   \n",
       "7                         0.0                        0.0   \n",
       "\n",
       "   AMT_REQ_CREDIT_BUREAU_QRT  AMT_REQ_CREDIT_BUREAU_YEAR  \n",
       "0                        0.0                         1.0  \n",
       "2                        0.0                         0.0  \n",
       "5                        1.0                         1.0  \n",
       "6                        1.0                         2.0  \n",
       "7                        0.0                         0.0  \n",
       "\n",
       "[5 rows x 72 columns]"
      ]
     },
     "execution_count": 14,
     "metadata": {},
     "output_type": "execute_result"
    }
   ],
   "source": [
    "df.head()"
   ]
  },
  {
   "cell_type": "code",
   "execution_count": 15,
   "id": "eaf474a8",
   "metadata": {},
   "outputs": [
    {
     "data": {
      "text/plain": [
       "Index(['SK_ID_CURR', 'TARGET', 'NAME_CONTRACT_TYPE', 'CODE_GENDER',\n",
       "       'FLAG_OWN_CAR', 'FLAG_OWN_REALTY', 'CNT_CHILDREN', 'AMT_INCOME_TOTAL',\n",
       "       'AMT_CREDIT', 'AMT_ANNUITY', 'AMT_GOODS_PRICE', 'NAME_TYPE_SUITE',\n",
       "       'NAME_INCOME_TYPE', 'NAME_EDUCATION_TYPE', 'NAME_FAMILY_STATUS',\n",
       "       'NAME_HOUSING_TYPE', 'REGION_POPULATION_RELATIVE', 'DAYS_BIRTH',\n",
       "       'DAYS_EMPLOYED', 'DAYS_REGISTRATION', 'DAYS_ID_PUBLISH', 'FLAG_MOBIL',\n",
       "       'FLAG_EMP_PHONE', 'FLAG_WORK_PHONE', 'FLAG_CONT_MOBILE', 'FLAG_PHONE',\n",
       "       'FLAG_EMAIL', 'CNT_FAM_MEMBERS', 'REGION_RATING_CLIENT',\n",
       "       'REGION_RATING_CLIENT_W_CITY', 'WEEKDAY_APPR_PROCESS_START',\n",
       "       'HOUR_APPR_PROCESS_START', 'REG_REGION_NOT_LIVE_REGION',\n",
       "       'REG_REGION_NOT_WORK_REGION', 'LIVE_REGION_NOT_WORK_REGION',\n",
       "       'REG_CITY_NOT_LIVE_CITY', 'REG_CITY_NOT_WORK_CITY',\n",
       "       'LIVE_CITY_NOT_WORK_CITY', 'ORGANIZATION_TYPE', 'EXT_SOURCE_2',\n",
       "       'EXT_SOURCE_3', 'OBS_30_CNT_SOCIAL_CIRCLE', 'DEF_30_CNT_SOCIAL_CIRCLE',\n",
       "       'OBS_60_CNT_SOCIAL_CIRCLE', 'DEF_60_CNT_SOCIAL_CIRCLE',\n",
       "       'DAYS_LAST_PHONE_CHANGE', 'FLAG_DOCUMENT_2', 'FLAG_DOCUMENT_3',\n",
       "       'FLAG_DOCUMENT_4', 'FLAG_DOCUMENT_5', 'FLAG_DOCUMENT_6',\n",
       "       'FLAG_DOCUMENT_7', 'FLAG_DOCUMENT_8', 'FLAG_DOCUMENT_9',\n",
       "       'FLAG_DOCUMENT_10', 'FLAG_DOCUMENT_11', 'FLAG_DOCUMENT_12',\n",
       "       'FLAG_DOCUMENT_13', 'FLAG_DOCUMENT_14', 'FLAG_DOCUMENT_15',\n",
       "       'FLAG_DOCUMENT_16', 'FLAG_DOCUMENT_17', 'FLAG_DOCUMENT_18',\n",
       "       'FLAG_DOCUMENT_19', 'FLAG_DOCUMENT_20', 'FLAG_DOCUMENT_21',\n",
       "       'AMT_REQ_CREDIT_BUREAU_HOUR', 'AMT_REQ_CREDIT_BUREAU_DAY',\n",
       "       'AMT_REQ_CREDIT_BUREAU_WEEK', 'AMT_REQ_CREDIT_BUREAU_MON',\n",
       "       'AMT_REQ_CREDIT_BUREAU_QRT', 'AMT_REQ_CREDIT_BUREAU_YEAR'],\n",
       "      dtype='object')"
      ]
     },
     "execution_count": 15,
     "metadata": {},
     "output_type": "execute_result"
    }
   ],
   "source": [
    "df.columns"
   ]
  },
  {
   "cell_type": "code",
   "execution_count": 16,
   "id": "cc046346",
   "metadata": {},
   "outputs": [
    {
     "data": {
      "text/html": [
       "<div>\n",
       "<style scoped>\n",
       "    .dataframe tbody tr th:only-of-type {\n",
       "        vertical-align: middle;\n",
       "    }\n",
       "\n",
       "    .dataframe tbody tr th {\n",
       "        vertical-align: top;\n",
       "    }\n",
       "\n",
       "    .dataframe thead th {\n",
       "        text-align: right;\n",
       "    }\n",
       "</style>\n",
       "<table border=\"1\" class=\"dataframe\">\n",
       "  <thead>\n",
       "    <tr style=\"text-align: right;\">\n",
       "      <th></th>\n",
       "      <th>First Feature (FF)</th>\n",
       "      <th>Second Feature (SF)</th>\n",
       "      <th>Correlation (FF x SF)</th>\n",
       "    </tr>\n",
       "  </thead>\n",
       "  <tbody>\n",
       "    <tr>\n",
       "      <th>0</th>\n",
       "      <td>CNT_CHILDREN</td>\n",
       "      <td>CNT_FAM_MEMBERS</td>\n",
       "      <td>0.881560</td>\n",
       "    </tr>\n",
       "    <tr>\n",
       "      <th>1</th>\n",
       "      <td>AMT_CREDIT</td>\n",
       "      <td>AMT_ANNUITY</td>\n",
       "      <td>0.772384</td>\n",
       "    </tr>\n",
       "    <tr>\n",
       "      <th>2</th>\n",
       "      <td>AMT_CREDIT</td>\n",
       "      <td>AMT_GOODS_PRICE</td>\n",
       "      <td>0.986844</td>\n",
       "    </tr>\n",
       "    <tr>\n",
       "      <th>3</th>\n",
       "      <td>AMT_ANNUITY</td>\n",
       "      <td>AMT_GOODS_PRICE</td>\n",
       "      <td>0.776686</td>\n",
       "    </tr>\n",
       "    <tr>\n",
       "      <th>4</th>\n",
       "      <td>DAYS_EMPLOYED</td>\n",
       "      <td>FLAG_EMP_PHONE</td>\n",
       "      <td>-0.999756</td>\n",
       "    </tr>\n",
       "    <tr>\n",
       "      <th>5</th>\n",
       "      <td>FLAG_EMP_PHONE</td>\n",
       "      <td>DAYS_EMPLOYED</td>\n",
       "      <td>-0.999756</td>\n",
       "    </tr>\n",
       "    <tr>\n",
       "      <th>6</th>\n",
       "      <td>REGION_RATING_CLIENT</td>\n",
       "      <td>REGION_RATING_CLIENT_W_CITY</td>\n",
       "      <td>0.952729</td>\n",
       "    </tr>\n",
       "    <tr>\n",
       "      <th>7</th>\n",
       "      <td>REG_REGION_NOT_WORK_REGION</td>\n",
       "      <td>LIVE_REGION_NOT_WORK_REGION</td>\n",
       "      <td>0.865031</td>\n",
       "    </tr>\n",
       "    <tr>\n",
       "      <th>8</th>\n",
       "      <td>REG_CITY_NOT_WORK_CITY</td>\n",
       "      <td>LIVE_CITY_NOT_WORK_CITY</td>\n",
       "      <td>0.831414</td>\n",
       "    </tr>\n",
       "    <tr>\n",
       "      <th>9</th>\n",
       "      <td>OBS_30_CNT_SOCIAL_CIRCLE</td>\n",
       "      <td>OBS_60_CNT_SOCIAL_CIRCLE</td>\n",
       "      <td>0.998533</td>\n",
       "    </tr>\n",
       "    <tr>\n",
       "      <th>10</th>\n",
       "      <td>DEF_30_CNT_SOCIAL_CIRCLE</td>\n",
       "      <td>DEF_60_CNT_SOCIAL_CIRCLE</td>\n",
       "      <td>0.859482</td>\n",
       "    </tr>\n",
       "  </tbody>\n",
       "</table>\n",
       "</div>"
      ],
      "text/plain": [
       "            First Feature (FF)          Second Feature (SF)  \\\n",
       "0                 CNT_CHILDREN              CNT_FAM_MEMBERS   \n",
       "1                   AMT_CREDIT                  AMT_ANNUITY   \n",
       "2                   AMT_CREDIT              AMT_GOODS_PRICE   \n",
       "3                  AMT_ANNUITY              AMT_GOODS_PRICE   \n",
       "4                DAYS_EMPLOYED               FLAG_EMP_PHONE   \n",
       "5               FLAG_EMP_PHONE                DAYS_EMPLOYED   \n",
       "6         REGION_RATING_CLIENT  REGION_RATING_CLIENT_W_CITY   \n",
       "7   REG_REGION_NOT_WORK_REGION  LIVE_REGION_NOT_WORK_REGION   \n",
       "8       REG_CITY_NOT_WORK_CITY      LIVE_CITY_NOT_WORK_CITY   \n",
       "9     OBS_30_CNT_SOCIAL_CIRCLE     OBS_60_CNT_SOCIAL_CIRCLE   \n",
       "10    DEF_30_CNT_SOCIAL_CIRCLE     DEF_60_CNT_SOCIAL_CIRCLE   \n",
       "\n",
       "    Correlation (FF x SF)  \n",
       "0                0.881560  \n",
       "1                0.772384  \n",
       "2                0.986844  \n",
       "3                0.776686  \n",
       "4               -0.999756  \n",
       "5               -0.999756  \n",
       "6                0.952729  \n",
       "7                0.865031  \n",
       "8                0.831414  \n",
       "9                0.998533  \n",
       "10               0.859482  "
      ]
     },
     "execution_count": 16,
     "metadata": {},
     "output_type": "execute_result"
    }
   ],
   "source": [
    "#Check for the correlation of the feature variables\n",
    "\n",
    "row_index = 0\n",
    "corrDict = {}\n",
    "row_name = []\n",
    "col_name = []\n",
    "corr_val = []\n",
    "\n",
    "while row_index < len(df.corr().index.tolist()):\n",
    "    for index, x in enumerate(df.corr().iloc[row_index, :]):\n",
    "        if abs(x) >= 0.75 and index != row_index:\n",
    "            if abs(x) in corr_val:\n",
    "                if (df.corr().index.tolist()[row_index] in col_name) and (df.corr().columns.tolist()[index] in row_name):\n",
    "                    continue\n",
    "            row_name.append(df.corr().index.tolist()[row_index])\n",
    "            col_name.append(df.corr().columns.tolist()[index])\n",
    "            corr_val.append(x)\n",
    "    row_index += 1\n",
    "    \n",
    "corrDict ={\"First Feature (FF)\": row_name, \"Second Feature (SF)\": col_name, \"Correlation (FF x SF)\": corr_val}\n",
    "corr_df2=pd.DataFrame(corrDict)\n",
    "corr_df2\n"
   ]
  },
  {
   "cell_type": "code",
   "execution_count": 17,
   "id": "30b09ebe",
   "metadata": {},
   "outputs": [],
   "source": [
    "#Drop all the columns that are highly correlated\n",
    "\n",
    "df=df.drop(columns=['CNT_FAM_MEMBERS','AMT_GOODS_PRICE','FLAG_EMP_PHONE','REGION_RATING_CLIENT_W_CITY',\n",
    "                    'LIVE_REGION_NOT_WORK_REGION','LIVE_CITY_NOT_WORK_CITY','OBS_60_CNT_SOCIAL_CIRCLE',\n",
    "                    'DEF_60_CNT_SOCIAL_CIRCLE','AMT_ANNUITY'],axis=1)"
   ]
  },
  {
   "cell_type": "code",
   "execution_count": 18,
   "id": "8678e41a",
   "metadata": {},
   "outputs": [
    {
     "data": {
      "text/plain": [
       "(244280, 63)"
      ]
     },
     "execution_count": 18,
     "metadata": {},
     "output_type": "execute_result"
    }
   ],
   "source": [
    "df.shape"
   ]
  },
  {
   "cell_type": "code",
   "execution_count": 19,
   "id": "1528c773",
   "metadata": {},
   "outputs": [
    {
     "name": "stdout",
     "output_type": "stream",
     "text": [
      "<class 'pandas.core.frame.DataFrame'>\n",
      "Int64Index: 244280 entries, 0 to 307510\n",
      "Data columns (total 63 columns):\n",
      " #   Column                      Non-Null Count   Dtype  \n",
      "---  ------                      --------------   -----  \n",
      " 0   SK_ID_CURR                  244280 non-null  int64  \n",
      " 1   TARGET                      244280 non-null  int64  \n",
      " 2   NAME_CONTRACT_TYPE          244280 non-null  object \n",
      " 3   CODE_GENDER                 244280 non-null  object \n",
      " 4   FLAG_OWN_CAR                244280 non-null  object \n",
      " 5   FLAG_OWN_REALTY             244280 non-null  object \n",
      " 6   CNT_CHILDREN                244280 non-null  int64  \n",
      " 7   AMT_INCOME_TOTAL            244280 non-null  float64\n",
      " 8   AMT_CREDIT                  244280 non-null  float64\n",
      " 9   NAME_TYPE_SUITE             244280 non-null  object \n",
      " 10  NAME_INCOME_TYPE            244280 non-null  object \n",
      " 11  NAME_EDUCATION_TYPE         244280 non-null  object \n",
      " 12  NAME_FAMILY_STATUS          244280 non-null  object \n",
      " 13  NAME_HOUSING_TYPE           244280 non-null  object \n",
      " 14  REGION_POPULATION_RELATIVE  244280 non-null  float64\n",
      " 15  DAYS_BIRTH                  244280 non-null  int64  \n",
      " 16  DAYS_EMPLOYED               244280 non-null  int64  \n",
      " 17  DAYS_REGISTRATION           244280 non-null  float64\n",
      " 18  DAYS_ID_PUBLISH             244280 non-null  int64  \n",
      " 19  FLAG_MOBIL                  244280 non-null  int64  \n",
      " 20  FLAG_WORK_PHONE             244280 non-null  int64  \n",
      " 21  FLAG_CONT_MOBILE            244280 non-null  int64  \n",
      " 22  FLAG_PHONE                  244280 non-null  int64  \n",
      " 23  FLAG_EMAIL                  244280 non-null  int64  \n",
      " 24  REGION_RATING_CLIENT        244280 non-null  int64  \n",
      " 25  WEEKDAY_APPR_PROCESS_START  244280 non-null  object \n",
      " 26  HOUR_APPR_PROCESS_START     244280 non-null  int64  \n",
      " 27  REG_REGION_NOT_LIVE_REGION  244280 non-null  int64  \n",
      " 28  REG_REGION_NOT_WORK_REGION  244280 non-null  int64  \n",
      " 29  REG_CITY_NOT_LIVE_CITY      244280 non-null  int64  \n",
      " 30  REG_CITY_NOT_WORK_CITY      244280 non-null  int64  \n",
      " 31  ORGANIZATION_TYPE           244280 non-null  object \n",
      " 32  EXT_SOURCE_2                244280 non-null  float64\n",
      " 33  EXT_SOURCE_3                244280 non-null  float64\n",
      " 34  OBS_30_CNT_SOCIAL_CIRCLE    244280 non-null  float64\n",
      " 35  DEF_30_CNT_SOCIAL_CIRCLE    244280 non-null  float64\n",
      " 36  DAYS_LAST_PHONE_CHANGE      244280 non-null  float64\n",
      " 37  FLAG_DOCUMENT_2             244280 non-null  int64  \n",
      " 38  FLAG_DOCUMENT_3             244280 non-null  int64  \n",
      " 39  FLAG_DOCUMENT_4             244280 non-null  int64  \n",
      " 40  FLAG_DOCUMENT_5             244280 non-null  int64  \n",
      " 41  FLAG_DOCUMENT_6             244280 non-null  int64  \n",
      " 42  FLAG_DOCUMENT_7             244280 non-null  int64  \n",
      " 43  FLAG_DOCUMENT_8             244280 non-null  int64  \n",
      " 44  FLAG_DOCUMENT_9             244280 non-null  int64  \n",
      " 45  FLAG_DOCUMENT_10            244280 non-null  int64  \n",
      " 46  FLAG_DOCUMENT_11            244280 non-null  int64  \n",
      " 47  FLAG_DOCUMENT_12            244280 non-null  int64  \n",
      " 48  FLAG_DOCUMENT_13            244280 non-null  int64  \n",
      " 49  FLAG_DOCUMENT_14            244280 non-null  int64  \n",
      " 50  FLAG_DOCUMENT_15            244280 non-null  int64  \n",
      " 51  FLAG_DOCUMENT_16            244280 non-null  int64  \n",
      " 52  FLAG_DOCUMENT_17            244280 non-null  int64  \n",
      " 53  FLAG_DOCUMENT_18            244280 non-null  int64  \n",
      " 54  FLAG_DOCUMENT_19            244280 non-null  int64  \n",
      " 55  FLAG_DOCUMENT_20            244280 non-null  int64  \n",
      " 56  FLAG_DOCUMENT_21            244280 non-null  int64  \n",
      " 57  AMT_REQ_CREDIT_BUREAU_HOUR  244280 non-null  float64\n",
      " 58  AMT_REQ_CREDIT_BUREAU_DAY   244280 non-null  float64\n",
      " 59  AMT_REQ_CREDIT_BUREAU_WEEK  244280 non-null  float64\n",
      " 60  AMT_REQ_CREDIT_BUREAU_MON   244280 non-null  float64\n",
      " 61  AMT_REQ_CREDIT_BUREAU_QRT   244280 non-null  float64\n",
      " 62  AMT_REQ_CREDIT_BUREAU_YEAR  244280 non-null  float64\n",
      "dtypes: float64(15), int64(37), object(11)\n",
      "memory usage: 119.3+ MB\n"
     ]
    }
   ],
   "source": [
    "df.info()"
   ]
  },
  {
   "cell_type": "code",
   "execution_count": 20,
   "id": "d3a4b63c",
   "metadata": {},
   "outputs": [],
   "source": [
    "#Apply Label Encoder\n",
    "\n",
    "from sklearn.preprocessing import LabelEncoder\n",
    "le=LabelEncoder()\n",
    "col_list=df.select_dtypes(include='object').columns\n",
    "for col in col_list:\n",
    "    df[col]=le.fit_transform(df[col].astype(str))"
   ]
  },
  {
   "cell_type": "code",
   "execution_count": 21,
   "id": "b189d36e",
   "metadata": {},
   "outputs": [],
   "source": [
    "# Split the data into train and test data\n",
    "\n",
    "from sklearn.model_selection import train_test_split\n",
    "y=df['TARGET']\n",
    "X=df.drop(columns=['TARGET'],axis=1)"
   ]
  },
  {
   "cell_type": "code",
   "execution_count": 22,
   "id": "48f5c3f4",
   "metadata": {},
   "outputs": [],
   "source": [
    "xtrain,xtest,ytrain,ytest=train_test_split(X,y,test_size=0.2,random_state=101)"
   ]
  },
  {
   "cell_type": "code",
   "execution_count": 23,
   "id": "f4f70a60",
   "metadata": {},
   "outputs": [],
   "source": [
    "#Since the data is highly imbalanced apply SMOTE\n",
    "from imblearn.over_sampling import SMOTE\n",
    "sm=SMOTE()"
   ]
  },
  {
   "cell_type": "code",
   "execution_count": 24,
   "id": "5d1607b7",
   "metadata": {},
   "outputs": [
    {
     "name": "stdout",
     "output_type": "stream",
     "text": [
      "Before smote: Counter({0: 180189, 1: 15235})\n",
      "After smote: Counter({0: 180189, 1: 180189})\n"
     ]
    }
   ],
   "source": [
    "xtrain_sm,ytrain_sm=sm.fit_resample(xtrain,ytrain)\n",
    "from collections import Counter\n",
    "print('Before smote:',Counter(ytrain))\n",
    "print('After smote:',Counter(ytrain_sm))"
   ]
  },
  {
   "cell_type": "code",
   "execution_count": 25,
   "id": "727dc241",
   "metadata": {},
   "outputs": [],
   "source": [
    "#Since there are so many feature variables apply PCA\n",
    "\n",
    "from sklearn.decomposition import PCA\n",
    "pc=PCA(n_components=0.99)"
   ]
  },
  {
   "cell_type": "code",
   "execution_count": 26,
   "id": "4b932648",
   "metadata": {},
   "outputs": [
    {
     "data": {
      "text/html": [
       "<style>#sk-container-id-1 {color: black;background-color: white;}#sk-container-id-1 pre{padding: 0;}#sk-container-id-1 div.sk-toggleable {background-color: white;}#sk-container-id-1 label.sk-toggleable__label {cursor: pointer;display: block;width: 100%;margin-bottom: 0;padding: 0.3em;box-sizing: border-box;text-align: center;}#sk-container-id-1 label.sk-toggleable__label-arrow:before {content: \"▸\";float: left;margin-right: 0.25em;color: #696969;}#sk-container-id-1 label.sk-toggleable__label-arrow:hover:before {color: black;}#sk-container-id-1 div.sk-estimator:hover label.sk-toggleable__label-arrow:before {color: black;}#sk-container-id-1 div.sk-toggleable__content {max-height: 0;max-width: 0;overflow: hidden;text-align: left;background-color: #f0f8ff;}#sk-container-id-1 div.sk-toggleable__content pre {margin: 0.2em;color: black;border-radius: 0.25em;background-color: #f0f8ff;}#sk-container-id-1 input.sk-toggleable__control:checked~div.sk-toggleable__content {max-height: 200px;max-width: 100%;overflow: auto;}#sk-container-id-1 input.sk-toggleable__control:checked~label.sk-toggleable__label-arrow:before {content: \"▾\";}#sk-container-id-1 div.sk-estimator input.sk-toggleable__control:checked~label.sk-toggleable__label {background-color: #d4ebff;}#sk-container-id-1 div.sk-label input.sk-toggleable__control:checked~label.sk-toggleable__label {background-color: #d4ebff;}#sk-container-id-1 input.sk-hidden--visually {border: 0;clip: rect(1px 1px 1px 1px);clip: rect(1px, 1px, 1px, 1px);height: 1px;margin: -1px;overflow: hidden;padding: 0;position: absolute;width: 1px;}#sk-container-id-1 div.sk-estimator {font-family: monospace;background-color: #f0f8ff;border: 1px dotted black;border-radius: 0.25em;box-sizing: border-box;margin-bottom: 0.5em;}#sk-container-id-1 div.sk-estimator:hover {background-color: #d4ebff;}#sk-container-id-1 div.sk-parallel-item::after {content: \"\";width: 100%;border-bottom: 1px solid gray;flex-grow: 1;}#sk-container-id-1 div.sk-label:hover label.sk-toggleable__label {background-color: #d4ebff;}#sk-container-id-1 div.sk-serial::before {content: \"\";position: absolute;border-left: 1px solid gray;box-sizing: border-box;top: 0;bottom: 0;left: 50%;z-index: 0;}#sk-container-id-1 div.sk-serial {display: flex;flex-direction: column;align-items: center;background-color: white;padding-right: 0.2em;padding-left: 0.2em;position: relative;}#sk-container-id-1 div.sk-item {position: relative;z-index: 1;}#sk-container-id-1 div.sk-parallel {display: flex;align-items: stretch;justify-content: center;background-color: white;position: relative;}#sk-container-id-1 div.sk-item::before, #sk-container-id-1 div.sk-parallel-item::before {content: \"\";position: absolute;border-left: 1px solid gray;box-sizing: border-box;top: 0;bottom: 0;left: 50%;z-index: -1;}#sk-container-id-1 div.sk-parallel-item {display: flex;flex-direction: column;z-index: 1;position: relative;background-color: white;}#sk-container-id-1 div.sk-parallel-item:first-child::after {align-self: flex-end;width: 50%;}#sk-container-id-1 div.sk-parallel-item:last-child::after {align-self: flex-start;width: 50%;}#sk-container-id-1 div.sk-parallel-item:only-child::after {width: 0;}#sk-container-id-1 div.sk-dashed-wrapped {border: 1px dashed gray;margin: 0 0.4em 0.5em 0.4em;box-sizing: border-box;padding-bottom: 0.4em;background-color: white;}#sk-container-id-1 div.sk-label label {font-family: monospace;font-weight: bold;display: inline-block;line-height: 1.2em;}#sk-container-id-1 div.sk-label-container {text-align: center;}#sk-container-id-1 div.sk-container {/* jupyter's `normalize.less` sets `[hidden] { display: none; }` but bootstrap.min.css set `[hidden] { display: none !important; }` so we also need the `!important` here to be able to override the default hidden behavior on the sphinx rendered scikit-learn.org. See: https://github.com/scikit-learn/scikit-learn/issues/21755 */display: inline-block !important;position: relative;}#sk-container-id-1 div.sk-text-repr-fallback {display: none;}</style><div id=\"sk-container-id-1\" class=\"sk-top-container\"><div class=\"sk-text-repr-fallback\"><pre>PCA(n_components=0.99)</pre><b>In a Jupyter environment, please rerun this cell to show the HTML representation or trust the notebook. <br />On GitHub, the HTML representation is unable to render, please try loading this page with nbviewer.org.</b></div><div class=\"sk-container\" hidden><div class=\"sk-item\"><div class=\"sk-estimator sk-toggleable\"><input class=\"sk-toggleable__control sk-hidden--visually\" id=\"sk-estimator-id-1\" type=\"checkbox\" checked><label for=\"sk-estimator-id-1\" class=\"sk-toggleable__label sk-toggleable__label-arrow\">PCA</label><div class=\"sk-toggleable__content\"><pre>PCA(n_components=0.99)</pre></div></div></div></div></div>"
      ],
      "text/plain": [
       "PCA(n_components=0.99)"
      ]
     },
     "execution_count": 26,
     "metadata": {},
     "output_type": "execute_result"
    }
   ],
   "source": [
    "pc.fit(xtrain_sm)"
   ]
  },
  {
   "cell_type": "code",
   "execution_count": 27,
   "id": "4f5162ae",
   "metadata": {},
   "outputs": [
    {
     "name": "stdout",
     "output_type": "stream",
     "text": [
      "(360378, 4)\n"
     ]
    }
   ],
   "source": [
    "xtrain_trans=pc.transform(xtrain_sm)\n",
    "print(xtrain_trans.shape)"
   ]
  },
  {
   "cell_type": "code",
   "execution_count": 28,
   "id": "f3a0b7ce",
   "metadata": {},
   "outputs": [
    {
     "name": "stdout",
     "output_type": "stream",
     "text": [
      "(48856, 4)\n"
     ]
    }
   ],
   "source": [
    "xtest_trans=pc.transform(xtest)\n",
    "print(xtest_trans.shape)"
   ]
  },
  {
   "cell_type": "code",
   "execution_count": 29,
   "id": "bf689ee2",
   "metadata": {},
   "outputs": [],
   "source": [
    "# Apply Logistic Regression\n",
    "\n",
    "from sklearn.linear_model import LogisticRegression\n",
    "lr=LogisticRegression()"
   ]
  },
  {
   "cell_type": "code",
   "execution_count": 30,
   "id": "138270a5",
   "metadata": {},
   "outputs": [
    {
     "data": {
      "text/html": [
       "<style>#sk-container-id-2 {color: black;background-color: white;}#sk-container-id-2 pre{padding: 0;}#sk-container-id-2 div.sk-toggleable {background-color: white;}#sk-container-id-2 label.sk-toggleable__label {cursor: pointer;display: block;width: 100%;margin-bottom: 0;padding: 0.3em;box-sizing: border-box;text-align: center;}#sk-container-id-2 label.sk-toggleable__label-arrow:before {content: \"▸\";float: left;margin-right: 0.25em;color: #696969;}#sk-container-id-2 label.sk-toggleable__label-arrow:hover:before {color: black;}#sk-container-id-2 div.sk-estimator:hover label.sk-toggleable__label-arrow:before {color: black;}#sk-container-id-2 div.sk-toggleable__content {max-height: 0;max-width: 0;overflow: hidden;text-align: left;background-color: #f0f8ff;}#sk-container-id-2 div.sk-toggleable__content pre {margin: 0.2em;color: black;border-radius: 0.25em;background-color: #f0f8ff;}#sk-container-id-2 input.sk-toggleable__control:checked~div.sk-toggleable__content {max-height: 200px;max-width: 100%;overflow: auto;}#sk-container-id-2 input.sk-toggleable__control:checked~label.sk-toggleable__label-arrow:before {content: \"▾\";}#sk-container-id-2 div.sk-estimator input.sk-toggleable__control:checked~label.sk-toggleable__label {background-color: #d4ebff;}#sk-container-id-2 div.sk-label input.sk-toggleable__control:checked~label.sk-toggleable__label {background-color: #d4ebff;}#sk-container-id-2 input.sk-hidden--visually {border: 0;clip: rect(1px 1px 1px 1px);clip: rect(1px, 1px, 1px, 1px);height: 1px;margin: -1px;overflow: hidden;padding: 0;position: absolute;width: 1px;}#sk-container-id-2 div.sk-estimator {font-family: monospace;background-color: #f0f8ff;border: 1px dotted black;border-radius: 0.25em;box-sizing: border-box;margin-bottom: 0.5em;}#sk-container-id-2 div.sk-estimator:hover {background-color: #d4ebff;}#sk-container-id-2 div.sk-parallel-item::after {content: \"\";width: 100%;border-bottom: 1px solid gray;flex-grow: 1;}#sk-container-id-2 div.sk-label:hover label.sk-toggleable__label {background-color: #d4ebff;}#sk-container-id-2 div.sk-serial::before {content: \"\";position: absolute;border-left: 1px solid gray;box-sizing: border-box;top: 0;bottom: 0;left: 50%;z-index: 0;}#sk-container-id-2 div.sk-serial {display: flex;flex-direction: column;align-items: center;background-color: white;padding-right: 0.2em;padding-left: 0.2em;position: relative;}#sk-container-id-2 div.sk-item {position: relative;z-index: 1;}#sk-container-id-2 div.sk-parallel {display: flex;align-items: stretch;justify-content: center;background-color: white;position: relative;}#sk-container-id-2 div.sk-item::before, #sk-container-id-2 div.sk-parallel-item::before {content: \"\";position: absolute;border-left: 1px solid gray;box-sizing: border-box;top: 0;bottom: 0;left: 50%;z-index: -1;}#sk-container-id-2 div.sk-parallel-item {display: flex;flex-direction: column;z-index: 1;position: relative;background-color: white;}#sk-container-id-2 div.sk-parallel-item:first-child::after {align-self: flex-end;width: 50%;}#sk-container-id-2 div.sk-parallel-item:last-child::after {align-self: flex-start;width: 50%;}#sk-container-id-2 div.sk-parallel-item:only-child::after {width: 0;}#sk-container-id-2 div.sk-dashed-wrapped {border: 1px dashed gray;margin: 0 0.4em 0.5em 0.4em;box-sizing: border-box;padding-bottom: 0.4em;background-color: white;}#sk-container-id-2 div.sk-label label {font-family: monospace;font-weight: bold;display: inline-block;line-height: 1.2em;}#sk-container-id-2 div.sk-label-container {text-align: center;}#sk-container-id-2 div.sk-container {/* jupyter's `normalize.less` sets `[hidden] { display: none; }` but bootstrap.min.css set `[hidden] { display: none !important; }` so we also need the `!important` here to be able to override the default hidden behavior on the sphinx rendered scikit-learn.org. See: https://github.com/scikit-learn/scikit-learn/issues/21755 */display: inline-block !important;position: relative;}#sk-container-id-2 div.sk-text-repr-fallback {display: none;}</style><div id=\"sk-container-id-2\" class=\"sk-top-container\"><div class=\"sk-text-repr-fallback\"><pre>LogisticRegression()</pre><b>In a Jupyter environment, please rerun this cell to show the HTML representation or trust the notebook. <br />On GitHub, the HTML representation is unable to render, please try loading this page with nbviewer.org.</b></div><div class=\"sk-container\" hidden><div class=\"sk-item\"><div class=\"sk-estimator sk-toggleable\"><input class=\"sk-toggleable__control sk-hidden--visually\" id=\"sk-estimator-id-2\" type=\"checkbox\" checked><label for=\"sk-estimator-id-2\" class=\"sk-toggleable__label sk-toggleable__label-arrow\">LogisticRegression</label><div class=\"sk-toggleable__content\"><pre>LogisticRegression()</pre></div></div></div></div></div>"
      ],
      "text/plain": [
       "LogisticRegression()"
      ]
     },
     "execution_count": 30,
     "metadata": {},
     "output_type": "execute_result"
    }
   ],
   "source": [
    "lr.fit(xtrain_trans,ytrain_sm)"
   ]
  },
  {
   "cell_type": "code",
   "execution_count": 43,
   "id": "267e4ec6",
   "metadata": {},
   "outputs": [],
   "source": [
    "pred_lr=lr.predict(xtest_trans)\n",
    "pred_proba_lr=lr.predict_proba(xtest_trans)"
   ]
  },
  {
   "cell_type": "code",
   "execution_count": 32,
   "id": "ad391859",
   "metadata": {},
   "outputs": [
    {
     "data": {
      "text/plain": [
       "0.4243491075814639"
      ]
     },
     "execution_count": 32,
     "metadata": {},
     "output_type": "execute_result"
    }
   ],
   "source": [
    "from sklearn.metrics import accuracy_score,confusion_matrix,classification_report,roc_auc_score\n",
    "accuracy_score(ytest,pred_lr)"
   ]
  },
  {
   "cell_type": "code",
   "execution_count": 33,
   "id": "b5cec720",
   "metadata": {},
   "outputs": [
    {
     "data": {
      "text/plain": [
       "array([[18052, 27007],\n",
       "       [ 1117,  2680]], dtype=int64)"
      ]
     },
     "execution_count": 33,
     "metadata": {},
     "output_type": "execute_result"
    }
   ],
   "source": [
    "confusion_matrix(ytest,pred_lr)"
   ]
  },
  {
   "cell_type": "code",
   "execution_count": 34,
   "id": "29276ff7",
   "metadata": {},
   "outputs": [
    {
     "name": "stdout",
     "output_type": "stream",
     "text": [
      "              precision    recall  f1-score   support\n",
      "\n",
      "           0       0.94      0.40      0.56     45059\n",
      "           1       0.09      0.71      0.16      3797\n",
      "\n",
      "    accuracy                           0.42     48856\n",
      "   macro avg       0.52      0.55      0.36     48856\n",
      "weighted avg       0.88      0.42      0.53     48856\n",
      "\n"
     ]
    }
   ],
   "source": [
    "print(classification_report(ytest,pred_lr))"
   ]
  },
  {
   "cell_type": "code",
   "execution_count": 35,
   "id": "b7aff017",
   "metadata": {},
   "outputs": [
    {
     "data": {
      "text/plain": [
       "0.9416901997698985"
      ]
     },
     "execution_count": 35,
     "metadata": {},
     "output_type": "execute_result"
    }
   ],
   "source": [
    "sensitivity_lr=18007/(18007+1115)\n",
    "sensitivity_lr"
   ]
  },
  {
   "cell_type": "code",
   "execution_count": 44,
   "id": "9a75a5cd",
   "metadata": {},
   "outputs": [
    {
     "name": "stdout",
     "output_type": "stream",
     "text": [
      "0.5493516027617973\n"
     ]
    }
   ],
   "source": [
    "auc=roc_auc_score(ytest,pred_proba_lr[:,1])\n",
    "print(auc)"
   ]
  },
  {
   "cell_type": "code",
   "execution_count": 37,
   "id": "6ec836d1",
   "metadata": {},
   "outputs": [],
   "source": [
    "# Apply Random Forest Classifier\n",
    "\n",
    "from sklearn.ensemble import RandomForestClassifier\n",
    "rf=RandomForestClassifier()"
   ]
  },
  {
   "cell_type": "code",
   "execution_count": 46,
   "id": "ac30ad16",
   "metadata": {},
   "outputs": [],
   "source": [
    "rf.fit(xtrain_trans,ytrain_sm)\n",
    "pred_rf=rf.predict(xtest_trans)\n",
    "pred_proba_rf=rf.predict_proba(xtest_trans)"
   ]
  },
  {
   "cell_type": "code",
   "execution_count": 39,
   "id": "244e763e",
   "metadata": {},
   "outputs": [
    {
     "data": {
      "text/plain": [
       "array([[38830,  6229],\n",
       "       [ 3157,   640]], dtype=int64)"
      ]
     },
     "execution_count": 39,
     "metadata": {},
     "output_type": "execute_result"
    }
   ],
   "source": [
    "confusion_matrix(ytest,pred_rf)"
   ]
  },
  {
   "cell_type": "code",
   "execution_count": 40,
   "id": "b37e8d0d",
   "metadata": {},
   "outputs": [
    {
     "name": "stdout",
     "output_type": "stream",
     "text": [
      "              precision    recall  f1-score   support\n",
      "\n",
      "           0       0.92      0.86      0.89     45059\n",
      "           1       0.09      0.17      0.12      3797\n",
      "\n",
      "    accuracy                           0.81     48856\n",
      "   macro avg       0.51      0.52      0.51     48856\n",
      "weighted avg       0.86      0.81      0.83     48856\n",
      "\n"
     ]
    }
   ],
   "source": [
    "print(classification_report(ytest,pred_rf))"
   ]
  },
  {
   "cell_type": "code",
   "execution_count": 41,
   "id": "260c70c9",
   "metadata": {},
   "outputs": [
    {
     "data": {
      "text/plain": [
       "0.9252910660068374"
      ]
     },
     "execution_count": 41,
     "metadata": {},
     "output_type": "execute_result"
    }
   ],
   "source": [
    "sensitivity_rf=38704/(38704+3125)\n",
    "sensitivity_rf"
   ]
  },
  {
   "cell_type": "code",
   "execution_count": 47,
   "id": "5b8a3a3a",
   "metadata": {},
   "outputs": [
    {
     "name": "stdout",
     "output_type": "stream",
     "text": [
      "0.5491794876869452\n"
     ]
    }
   ],
   "source": [
    "auc=roc_auc_score(ytest,pred_proba_rf[:,1])\n",
    "print(auc)"
   ]
  },
  {
   "cell_type": "markdown",
   "id": "05967a28",
   "metadata": {},
   "source": [
    "As we can see, when Logistic Regression and Random Forest Classifier algorithms are applied:\n",
    " 1.Accuracy is more for the Random Forest Classifier algorithm than Logistic Regression.\n",
    " 2.Sensitivity is better for Logistic Regression than Random Forest Classifier algorithm."
   ]
  }
 ],
 "metadata": {
  "kernelspec": {
   "display_name": "Python 3",
   "language": "python",
   "name": "python3"
  },
  "language_info": {
   "codemirror_mode": {
    "name": "ipython",
    "version": 3
   },
   "file_extension": ".py",
   "mimetype": "text/x-python",
   "name": "python",
   "nbconvert_exporter": "python",
   "pygments_lexer": "ipython3",
   "version": "3.8.8"
  }
 },
 "nbformat": 4,
 "nbformat_minor": 5
}
